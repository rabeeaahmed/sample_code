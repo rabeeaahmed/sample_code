{
 "metadata": {
  "name": ""
 },
 "nbformat": 3,
 "nbformat_minor": 0,
 "worksheets": [
  {
   "cells": [
    {
     "cell_type": "code",
     "collapsed": false,
     "input": [
      "# Chinese Remainder Theorem\n",
      "\n",
      "import operator\n",
      "def apply_crm(setofremainders):\n",
      "    primes = [11, 13, 17, 19, 23, 29, 31, 33]\n",
      "    M = reduce(operator.mul, primes, 1)\n",
      "    M_subs = []\n",
      "    mod_invs = []\n",
      "    for i, prime in enumerate(primes):\n",
      "        M_subs.append(M/prime)\n",
      "    print M_subs\n",
      "    for i, prime in enumerate(primes):\n",
      "        mod_invs.append(inverse(M_subs[i], prime))\n",
      "    print mod_invs\n",
      "    summation = 0\n",
      "    for i, rem in enumerate(setofremainders):\n",
      "        summation += rem * M_subs[i] * mod_invs[i]\n",
      "    print summation % M\n",
      "    \n",
      "        \n",
      "        \n",
      "    "
     ],
     "language": "python",
     "metadata": {},
     "outputs": [],
     "prompt_number": 7
    },
    {
     "cell_type": "code",
     "collapsed": false,
     "input": [
      "#axminusqmeq1(11, 35)\n",
      "# 9;11;6;17;19;17;15;0)\n",
      "apply_crm([9, 11, 6, 17, 19, 17, 15, 0])"
     ],
     "language": "python",
     "metadata": {},
     "outputs": [
      {
       "output_type": "stream",
       "stream": "stdout",
       "text": [
        "[2865149859, 2424357573, 1853920497, 1658770971, 1370289063, 1086780981, 1016666079, 955049953]\n",
        "(2865149859, 11)\n",
        "(11, 0)\n",
        "(2424357573, 13)\n",
        "(13, 1)\n",
        "(1, 0)\n",
        "(1853920497, 17)\n",
        "(17, 15)\n",
        "(15, 2)\n",
        "(2, 1)\n",
        "(1, 0)\n",
        "(1658770971, 19)\n",
        "(19, 6)\n",
        "(6, 1)\n",
        "(1, 0)\n",
        "(1370289063, 23)\n",
        "(23, 8)\n",
        "(8, 7)\n",
        "(7, 1)\n",
        "(1, 0)\n",
        "(1086780981, 29)\n",
        "(29, 7)\n",
        "(7, 1)\n",
        "(1, 0)\n",
        "(1016666079, 31)\n",
        "(31, 30)\n",
        "(30, 1)\n",
        "(1, 0)\n",
        "(955049953, 33)\n",
        "(33, 22)\n",
        "(22, 11)\n",
        "(11, 0)\n",
        "[0, 1, 8, -3, 3, -4, -1, -1]\n",
        "20014176336\n"
       ]
      }
     ],
     "prompt_number": 8
    },
    {
     "cell_type": "code",
     "collapsed": false,
     "input": [
      "def find_st(a, b, gcd):\n",
      "        for first_int in range(1, max(a,b)):\n",
      "            pot_second = (gcd - b*first_int)%a\n",
      "            if pot_second == 0:\n",
      "                second_int = (gcd - b*first_int)/a\n",
      "                return (second_int,first_int)"
     ],
     "language": "python",
     "metadata": {},
     "outputs": [],
     "prompt_number": 46
    },
    {
     "cell_type": "code",
     "collapsed": false,
     "input": [
      "def axminusqmeq1(a, m):\n",
      "    for q in range(1, max(a, m)):\n",
      "        if (q * m + 1) % a == 0:\n",
      "            return (q* m + 1)/a"
     ],
     "language": "python",
     "metadata": {},
     "outputs": [],
     "prompt_number": 24
    },
    {
     "cell_type": "code",
     "collapsed": false,
     "input": [
      "axminusqmeq1(5, 42)"
     ],
     "language": "python",
     "metadata": {},
     "outputs": [
      {
       "metadata": {},
       "output_type": "pyout",
       "prompt_number": 71,
       "text": [
        "17"
       ]
      }
     ],
     "prompt_number": 71
    },
    {
     "cell_type": "code",
     "collapsed": false,
     "input": [
      "print modinv(77, 5)\n",
      "print modinv(55, 7)\n",
      "print modinv(35, 11)\n"
     ],
     "language": "python",
     "metadata": {},
     "outputs": [
      {
       "output_type": "stream",
       "stream": "stdout",
       "text": [
        "3\n",
        "6\n",
        "6\n"
       ]
      }
     ],
     "prompt_number": 5
    },
    {
     "cell_type": "code",
     "collapsed": false,
     "input": [
      "def egcd(a, b):\n",
      "    if a == 0:\n",
      "        return (b, 0, 1)\n",
      "    else:\n",
      "        g, y, x = egcd(b % a, a)\n",
      "        return (g, x - (b // a) * y, y)\n",
      "    \n",
      "def modinv(a, m):\n",
      "    g, x, y = egcd(a, m)\n",
      "    if g != 1:\n",
      "        raise Exception('modular inverse does not exist')\n",
      "    else:\n",
      "        return x % m\n",
      "    "
     ],
     "language": "python",
     "metadata": {},
     "outputs": [],
     "prompt_number": 2
    },
    {
     "cell_type": "code",
     "collapsed": false,
     "input": [
      "def ext_euclid(a, b) :\n",
      "        print (a, b)\n",
      "        if b == 0 :\n",
      "                return (a, 1, 0)\n",
      "        else :\n",
      "                (d, xx, yy) = ext_euclid(b, a % b)\n",
      "                x = yy\n",
      "                y = xx - (a / b) * yy\n",
      "                return (d, x, y)\n",
      "\n",
      "def inverse(a, n):\n",
      "                return ext_euclid(a, n)[1]"
     ],
     "language": "python",
     "metadata": {},
     "outputs": [],
     "prompt_number": 4
    },
    {
     "cell_type": "code",
     "collapsed": false,
     "input": [
      "(77, 5):\n",
      "    (5, 2)\n",
      "    (2, 1)\n",
      "    (1, 0)\n",
      "    \n",
      "    [1, 1, 0]\n",
      "    X = 0\n",
      "    Y = 1 - 15 * 0\n",
      "    "
     ],
     "language": "python",
     "metadata": {},
     "outputs": [
      {
       "ename": "SyntaxError",
       "evalue": "invalid syntax (<ipython-input-46-481d68e6e594>, line 1)",
       "output_type": "pyerr",
       "traceback": [
        "\u001b[0;36m  File \u001b[0;32m\"<ipython-input-46-481d68e6e594>\"\u001b[0;36m, line \u001b[0;32m1\u001b[0m\n\u001b[0;31m    (77, 5):\u001b[0m\n\u001b[0m           ^\u001b[0m\n\u001b[0;31mSyntaxError\u001b[0m\u001b[0;31m:\u001b[0m invalid syntax\n"
       ]
      }
     ],
     "prompt_number": 46
    },
    {
     "cell_type": "code",
     "collapsed": false,
     "input": [
      "ext_euclid(77, 5)"
     ],
     "language": "python",
     "metadata": {},
     "outputs": [
      {
       "output_type": "stream",
       "stream": "stdout",
       "text": [
        "(77, 5)\n",
        "(5, 2)\n",
        "(2, 1)\n",
        "(1, 0)\n",
        "here\n",
        "here\n",
        "here\n"
       ]
      },
      {
       "metadata": {},
       "output_type": "pyout",
       "prompt_number": 47,
       "text": [
        "(1, -2, 31)"
       ]
      }
     ],
     "prompt_number": 47
    },
    {
     "cell_type": "code",
     "collapsed": false,
     "input": [
      "45-18*2"
     ],
     "language": "python",
     "metadata": {},
     "outputs": [
      {
       "metadata": {},
       "output_type": "pyout",
       "prompt_number": 14,
       "text": [
        "9"
       ]
      }
     ],
     "prompt_number": 14
    },
    {
     "cell_type": "code",
     "collapsed": false,
     "input": [],
     "language": "python",
     "metadata": {},
     "outputs": []
    }
   ],
   "metadata": {}
  }
 ]
}