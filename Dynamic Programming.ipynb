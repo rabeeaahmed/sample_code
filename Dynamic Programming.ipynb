{
 "metadata": {
  "name": ""
 },
 "nbformat": 3,
 "nbformat_minor": 0,
 "worksheets": [
  {
   "cells": [
    {
     "cell_type": "code",
     "collapsed": false,
     "input": [
      "import numpy as np"
     ],
     "language": "python",
     "metadata": {},
     "outputs": [],
     "prompt_number": 2
    },
    {
     "cell_type": "code",
     "collapsed": false,
     "input": [
      "\"\"\"Find the fewest number of coins needed to create a non-negative sum\n",
      "  using an array of coin values, all of which are posited. \n",
      "\"\"\"\n",
      "def fewest_coins(coins_arr, sum):\n",
      "    coins_arr = np.array(coins_arr)\n",
      "    sum_arr = np.arange(sum + 1)\n",
      "    sum_arr[:] = 5000\n",
      "    sum_arr[0] = 0\n",
      "\n",
      "    for sum_num, sub_sum in enumerate(sum_arr):\n",
      "        valid_coins =  coins_arr[coins_arr <= sum_num]\n",
      "        for coin in valid_coins:\n",
      "            if (sum_arr[sum_num - coin] + 1 < sub_sum):\n",
      "                sum_arr[sum_num] = sum_arr[sum_num - coin] + 1\n",
      "\n",
      "    print \"The sub-sum array looks like this: \" + str(sum_arr)\n",
      "    print \"The minimum number of coins for a sum of \" + str(sum) +\" is: \" + str(sum_arr[sum])\n",
      "        \n",
      "fewest_coins ([0,1,3, 6,7], 5)"
     ],
     "language": "python",
     "metadata": {},
     "outputs": [
      {
       "output_type": "stream",
       "stream": "stdout",
       "text": [
        "The sub-sum array looks like this: [0 1 2 1 2 3]\n",
        "The minimum number of coins for a sum of 5 is: 3\n"
       ]
      }
     ],
     "prompt_number": 18
    },
    {
     "cell_type": "code",
     "collapsed": false,
     "input": [
      "# Longest Sequence Array:\n",
      "def longest_consec(array):\n",
      "    array_len = len(array)\n",
      "    sequence_len = np.ones((array_len,), dtype=np.int)\n",
      "    for i in range(1, array_len):\n",
      "        if (array[i-1] <= array[i]):\n",
      "            sequence_len[i] = sequence_len[i-1] + 1\n",
      "    if len(sequence_len) is 0:\n",
      "        maxlen_seq = 0\n",
      "    else:\n",
      "        maxlen_seq = sequence_len.max()\n",
      "    return maxlen_seq\n",
      "\n",
      "longest_consec([-1,-10])\n",
      "            "
     ],
     "language": "python",
     "metadata": {},
     "outputs": [
      {
       "metadata": {},
       "output_type": "pyout",
       "prompt_number": 19,
       "text": [
        "1"
       ]
      }
     ],
     "prompt_number": 19
    },
    {
     "cell_type": "code",
     "collapsed": false,
     "input": [
      "# Finds the maximum number of apples that can be collected\n",
      "# by only moving right or down, starting on the top-left.\n",
      "def max_apples(apples_arr):\n",
      "    rows, cols = apples_arr.shape\n",
      "    if (rows ==0 or cols ==0):\n",
      "        print \"Invalid grid\"\n",
      "        return -1\n",
      "    sum_arr = np.zeros((rows, cols))\n",
      "\n",
      "    for row in range(0, rows):\n",
      "        for col in range (0, cols):\n",
      "            apples = apples_arr[row][col]\n",
      "            if (row == 0 and col == 0):\n",
      "                sum_arr[row][col] = apples\n",
      "            elif (row == 0 and col > 0):\n",
      "                sum_arr[row][col] = apples + sum_arr[row][col - 1]\n",
      "            elif (col == 0 and row > 0):\n",
      "                sum_arr[row][col] = apples + sum_arr[row - 1][col]\n",
      "            else:\n",
      "                sum_arr[row][col] = apples + max(sum_arr[row][col-1], sum_arr[row-1][col])\n",
      "    max_apples = sum_arr.max()\n",
      "    return max_apples\n"
     ],
     "language": "python",
     "metadata": {},
     "outputs": [],
     "prompt_number": 81
    },
    {
     "cell_type": "code",
     "collapsed": false,
     "input": [
      "arr"
     ],
     "language": "python",
     "metadata": {},
     "outputs": [
      {
       "metadata": {},
       "output_type": "pyout",
       "prompt_number": 82,
       "text": [
        "array([], shape=(2, 0), dtype=float64)"
       ]
      }
     ],
     "prompt_number": 82
    },
    {
     "cell_type": "code",
     "collapsed": false,
     "input": [
      "arr = np.array([[],[]])\n",
      "max_apples(arr)"
     ],
     "language": "python",
     "metadata": {},
     "outputs": [
      {
       "output_type": "stream",
       "stream": "stdout",
       "text": [
        "Invalid grid\n"
       ]
      },
      {
       "metadata": {},
       "output_type": "pyout",
       "prompt_number": 83,
       "text": [
        "-1"
       ]
      }
     ],
     "prompt_number": 83
    },
    {
     "cell_type": "code",
     "collapsed": false,
     "input": [
      "arr"
     ],
     "language": "python",
     "metadata": {},
     "outputs": [
      {
       "metadata": {},
       "output_type": "pyout",
       "prompt_number": 74,
       "text": [
        "array([[1, 2, 3],\n",
        "       [3, 4, 3]])"
       ]
      }
     ],
     "prompt_number": 74
    },
    {
     "cell_type": "code",
     "collapsed": false,
     "input": [
      "arr.shape"
     ],
     "language": "python",
     "metadata": {},
     "outputs": [
      {
       "metadata": {},
       "output_type": "pyout",
       "prompt_number": 70,
       "text": [
        "(2, 3)"
       ]
      }
     ],
     "prompt_number": 70
    },
    {
     "cell_type": "code",
     "collapsed": false,
     "input": [],
     "language": "python",
     "metadata": {},
     "outputs": []
    }
   ],
   "metadata": {}
  }
 ]
}