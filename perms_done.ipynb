{
 "metadata": {
  "name": "perms_done.ipynb"
 },
 "nbformat": 3,
 "nbformat_minor": 0,
 "worksheets": [
  {
   "cells": [
    {
     "cell_type": "code",
     "collapsed": false,
     "input": [
      "def permutation(string, start_index, end_index):\n",
      "    temp_index = start_index\n",
      "    if (start_index == end_index):\n",
      "        print string\n",
      "    else:\n",
      "        while (temp_index <= end_index):\n",
      "            s_arr = list (string)\n",
      "            s_arr[start_index],s_arr[temp_index] = s_arr[temp_index],s_arr[start_index]\n",
      "            string = ''.join(s_arr)\n",
      "            permutation (string, start_index +1, end_index)\n",
      "            s_arr[start_index],s_arr[temp_index] = s_arr[temp_index],s_arr[start_index]\n",
      "            string = ''.join(s_arr)\n",
      "            temp_index += 1\n",
      "            \n"
     ],
     "language": "python",
     "metadata": {},
     "outputs": [],
     "prompt_number": 16
    },
    {
     "cell_type": "code",
     "collapsed": false,
     "input": [
      "permutation(\"abc\", 0, 2)"
     ],
     "language": "python",
     "metadata": {},
     "outputs": [
      {
       "output_type": "stream",
       "stream": "stdout",
       "text": [
        "abc\n",
        "acb\n",
        "bac\n",
        "bca\n",
        "cba\n",
        "cab\n"
       ]
      }
     ],
     "prompt_number": 17
    },
    {
     "cell_type": "code",
     "collapsed": false,
     "input": [
      "def permutation"
     ],
     "language": "python",
     "metadata": {},
     "outputs": []
    }
   ],
   "metadata": {}
  }
 ]
}