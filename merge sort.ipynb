{
 "metadata": {
  "name": "merge sort.ipynb"
 },
 "nbformat": 3,
 "nbformat_minor": 0,
 "worksheets": [
  {
   "cells": [
    {
     "cell_type": "code",
     "collapsed": false,
     "input": [
      "def insertion_sort(num_arr):\n",
      "    # only deal with the second element forward...\n",
      "    for i, selected in enumerate(num_arr[1:]):\n",
      "        curr_index = i+1\n",
      "        pred_index = curr_index - 1\n",
      "        while ((pred_index > -1) and (num_arr[pred_index] < selected)):\n",
      "            num_arr[pred_index + 1] = num_arr[pred_index]\n",
      "            pred_index = pred_index - 1\n",
      "        num_arr[pred_index + 1] = selected\n",
      "    print num_arr"
     ],
     "language": "python",
     "metadata": {},
     "outputs": [],
     "prompt_number": 46
    },
    {
     "cell_type": "code",
     "collapsed": false,
     "input": [
      "insertion_sort ([5,2,4,6,1,3])\n"
     ],
     "language": "python",
     "metadata": {},
     "outputs": [
      {
       "output_type": "stream",
       "stream": "stdout",
       "text": [
        "[6, 5, 4, 3, 2, 1]\n"
       ]
      }
     ],
     "prompt_number": 47
    },
    {
     "cell_type": "code",
     "collapsed": false,
     "input": [
      "def merge_sort (arr):\n",
      "    if (len(arr) == 1):\n",
      "        return arr\n",
      "    else:\n",
      "        m = len(arr) / 2\n",
      "        return merge(merge_sort(arr[:m]), merge_sort(arr[m:]))\n",
      "def merge (l, r):\n",
      "    output = []\n",
      "    i = j = 0\n",
      "    while ( i < len(l) and j < len(r)):\n",
      "        if l[i] < r[j]:\n",
      "            output.append(l[i])\n",
      "            i += 1\n",
      "        else:\n",
      "            output.append(r[j])\n",
      "            j += 1\n",
      "            \n",
      "    output += l[i:]\n",
      "    output += r[j:]\n",
      "    return output"
     ],
     "language": "python",
     "metadata": {},
     "outputs": [],
     "prompt_number": 62
    },
    {
     "cell_type": "code",
     "collapsed": false,
     "input": [
      "merge_sort([6,5,3,1,8,7,2,4])"
     ],
     "language": "python",
     "metadata": {},
     "outputs": [
      {
       "output_type": "pyout",
       "prompt_number": 63,
       "text": [
        "[1, 2, 3, 4, 5, 6, 7, 8]"
       ]
      }
     ],
     "prompt_number": 63
    },
    {
     "cell_type": "code",
     "collapsed": false,
     "input": [
      "def merge_sort(li):\n",
      "    if len(li) < 2: return li\n",
      "    m = len(li) / 2\n",
      "    return merge(merge_sort(li[:m]), merge_sort(li[m:]))\n",
      "\n",
      "def merge(l, r):\n",
      "    result = []\n",
      "    i = j = 0\n",
      "    while i < len(l) and j < len(r):\n",
      "        if l[i] < r[j]:\n",
      "            result.append(l[i])\n",
      "            i += 1\n",
      "        else:\n",
      "            result.append(r[j])\n",
      "            j += 1            \n",
      "    result += l[i:]\n",
      "    result += r[j:]\n",
      "    return result"
     ],
     "language": "python",
     "metadata": {},
     "outputs": [],
     "prompt_number": 53
    },
    {
     "cell_type": "code",
     "collapsed": false,
     "input": [
      "merge_sort([6,5,3,1,8,7,2,4])"
     ],
     "language": "python",
     "metadata": {},
     "outputs": [
      {
       "output_type": "pyout",
       "prompt_number": 54,
       "text": [
        "[1, 2, 3, 4, 5, 6, 7, 8]"
       ]
      }
     ],
     "prompt_number": 54
    },
    {
     "cell_type": "code",
     "collapsed": false,
     "input": [],
     "language": "python",
     "metadata": {},
     "outputs": []
    }
   ],
   "metadata": {}
  }
 ]
}