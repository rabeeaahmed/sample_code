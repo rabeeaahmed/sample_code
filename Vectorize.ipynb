{
 "metadata": {
  "name": ""
 },
 "nbformat": 3,
 "nbformat_minor": 0,
 "worksheets": [
  {
   "cells": [
    {
     "cell_type": "code",
     "collapsed": false,
     "input": [
      "# Vectorizing complicated functions in Python using NumPy"
     ],
     "language": "python",
     "metadata": {},
     "outputs": [],
     "prompt_number": 19
    },
    {
     "cell_type": "code",
     "collapsed": false,
     "input": [
      "import numpy as np"
     ],
     "language": "python",
     "metadata": {},
     "outputs": [],
     "prompt_number": 19
    },
    {
     "cell_type": "code",
     "collapsed": false,
     "input": [
      "# Essential gives you a random integer within a certain range\n",
      "def sing_rand_int(element, old_limit):\n",
      "    if element > old_limit:\n",
      "        new_limit = 20\n",
      "    else:\n",
      "        new_limit = old_limit\n",
      "    rand_int = np.random.random_integers(0,20)\n",
      "    return rand_int"
     ],
     "language": "python",
     "metadata": {},
     "outputs": [],
     "prompt_number": 12
    },
    {
     "cell_type": "code",
     "collapsed": false,
     "input": [
      "# Vectorizes the above function for easy 'mapping'\n",
      "vsing_rand_int = np.vectorize(sing_rand_int)"
     ],
     "language": "python",
     "metadata": {},
     "outputs": [],
     "prompt_number": 13
    },
    {
     "cell_type": "code",
     "collapsed": false,
     "input": [
      "# initializes our 'test' array\n",
      "my_arr = xrange(0,15)\n",
      "my_old_lim = 10"
     ],
     "language": "python",
     "metadata": {},
     "outputs": [],
     "prompt_number": 19
    },
    {
     "cell_type": "code",
     "collapsed": false,
     "input": [
      "# calls function using our test data\n",
      "vsing_rand_int(my_arr, my_old_lim)"
     ],
     "language": "python",
     "metadata": {},
     "outputs": [
      {
       "metadata": {},
       "output_type": "pyout",
       "prompt_number": 16,
       "text": [
        "array([18,  5,  6, 18,  3,  7,  7, 19, 13,  6])"
       ]
      }
     ],
     "prompt_number": 16
    },
    {
     "cell_type": "code",
     "collapsed": false,
     "input": [],
     "language": "python",
     "metadata": {},
     "outputs": []
    }
   ],
   "metadata": {}
  }
 ]
}