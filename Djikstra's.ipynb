{
 "metadata": {
  "name": ""
 },
 "nbformat": 3,
 "nbformat_minor": 0,
 "worksheets": [
  {
   "cells": [
    {
     "cell_type": "code",
     "collapsed": false,
     "input": [
      "import numpy as np"
     ],
     "language": "python",
     "metadata": {},
     "outputs": [],
     "prompt_number": 243
    },
    {
     "cell_type": "code",
     "collapsed": false,
     "input": [
      "def neighbor_cost(graph, visit_data):\n",
      "    \"\"\"Calculates the best neighbor to go to\n",
      "    as well as the optimal cost\"\"\"\n",
      "    \n",
      "    visited_nodes = visit_data.keys()\n",
      "    best_cost = 500000\n",
      "    best_nbr = ''\n",
      "    best_pred = ''\n",
      "    for vnode in visited_nodes:\n",
      "        vnode_cost = visit_data[vnode]\n",
      "        vnode_nbr = graph[vnode]\n",
      "        for nbr in vnode_nbr.keys():\n",
      "            if (nbr not in visited_nodes):\n",
      "                cost = vnode_cost + vnode_nbr[nbr]\n",
      "                if cost <= best_cost:\n",
      "                    best_cost = cost\n",
      "                    best_nbr = str(nbr)\n",
      "                    best_pred = str(vnode)\n",
      "    visit_data[best_nbr] = best_cost\n",
      "    return best_pred, best_nbr, visit_data"
     ],
     "language": "python",
     "metadata": {},
     "outputs": [],
     "prompt_number": 244
    },
    {
     "cell_type": "code",
     "collapsed": false,
     "input": [
      "def get_path(predecessor, start, end):\n",
      "    \"\"\" Uses the predecessor dict to create a\n",
      "    list with the ordered path that must be followed\n",
      "    to get the lowest cost\"\"\"\n",
      "    path = []\n",
      "    next_item = end\n",
      "    path.append(next_item)\n",
      "    while start not in path:\n",
      "        next_item = predecessor[next_item]\n",
      "        path.append(next_item)\n",
      "    path = path[::-1]\n",
      "    return path"
     ],
     "language": "python",
     "metadata": {},
     "outputs": [],
     "prompt_number": 245
    },
    {
     "cell_type": "code",
     "collapsed": false,
     "input": [
      "def djikstra(graph, start='o', end='t'):\n",
      "    \"\"\"Creates an accurate predecessor dict that\n",
      "    can be linke to find the optimal path. Also finds\n",
      "    the cost associated with the optimal path and returns it\"\"\"\n",
      "    \n",
      "    visited = {start: 0}\n",
      "    predecessor = {}\n",
      "    while end not in visited:\n",
      "        pred, nbr, visited = neighbor_cost(graph,visited)\n",
      "        predecessor[nbr] = pred\n",
      "    path = get_path(predecessor, start, end)\n",
      "    print \"Optimal Path Length is: \" + str(visited[end])\n",
      "    print \"The optimal path in orer is: \" + str(path)\n",
      "    return path"
     ],
     "language": "python",
     "metadata": {},
     "outputs": [],
     "prompt_number": 248
    },
    {
     "cell_type": "code",
     "collapsed": false,
     "input": [
      "path = djikstra(graph)"
     ],
     "language": "python",
     "metadata": {},
     "outputs": [
      {
       "output_type": "stream",
       "stream": "stdout",
       "text": [
        "Optimal Path Length is: 13\n",
        "The optimal path in orer is: ['o', 'a', 'b', 'e', 'd', 't']\n"
       ]
      }
     ],
     "prompt_number": 249
    },
    {
     "cell_type": "code",
     "collapsed": false,
     "input": [
      "                                                   "
     ],
     "language": "python",
     "metadata": {},
     "outputs": [],
     "prompt_number": 247
    },
    {
     "cell_type": "code",
     "collapsed": false,
     "input": [],
     "language": "python",
     "metadata": {},
     "outputs": [],
     "prompt_number": 247
    },
    {
     "cell_type": "code",
     "collapsed": false,
     "input": [],
     "language": "python",
     "metadata": {},
     "outputs": []
    }
   ],
   "metadata": {}
  }
 ]
}